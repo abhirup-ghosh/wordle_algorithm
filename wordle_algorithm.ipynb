{
 "cells": [
  {
   "cell_type": "markdown",
   "id": "07c90e26-40f5-4f9e-99bb-3f620d0453fe",
   "metadata": {
    "tags": []
   },
   "source": [
    "# Wordle\n",
    "\n",
    "This is a fun project aimed to optimise finding the Wordle."
   ]
  },
  {
   "cell_type": "markdown",
   "id": "58a7e500-822d-4b4a-b567-4766cbad5491",
   "metadata": {
    "tags": []
   },
   "source": [
    "---\n",
    "We adopt the following strategy:\n",
    "\n",
    "1. start with an optimised initial guess. Here we use the following strategy\n",
    "   * given the complete collection of English words (from nltk.corpus import words), restrict to 5-letter words\n",
    "   * look for characters that occur most frequently (they would have the highest probabilities to occur in the actual wordle as well)\n",
    "   * use these characters to form the best optimised first guess\n",
    "  \n",
    "2. before the next guess:\n",
    "   * greys are eliminated from the list of alphabets\n",
    "   * greens are held fixed in position for the next guess\n",
    "   * oranges are kept making sure they occur in a different position, not already held by a green\n",
    "\n",
    "3. repeat step 2.\n",
    "---"
   ]
  },
  {
   "cell_type": "code",
   "execution_count": 1,
   "id": "9fcce506-0104-476d-99dd-979d14ac16ad",
   "metadata": {},
   "outputs": [],
   "source": [
    "import nltk\n",
    "import pandas as pd\n",
    "import regex as re\n",
    "\n",
    "import matplotlib as mpl\n",
    "import matplotlib.pyplot as plt"
   ]
  },
  {
   "cell_type": "code",
   "execution_count": 2,
   "id": "ded65ad0-63d7-47b6-8bf0-7044d85dc9d9",
   "metadata": {},
   "outputs": [],
   "source": [
    "mpl.rcParams['axes.linewidth'] = 1.\n",
    "mpl.rcParams['axes.labelsize'] = 20.\n",
    "mpl.rcParams['axes.titlesize'] = 14.\n",
    "#mpl.rcParams['axes.labelweight'] = 'bold'\n",
    "mpl.rcParams['xtick.labelsize']= 14.\n",
    "mpl.rcParams['ytick.labelsize']= 14.\n",
    "mpl.rcParams['xtick.major.size']= 14.\n",
    "mpl.rcParams['xtick.minor.size']= 1.5\n",
    "mpl.rcParams['xtick.direction'] = 'in'\n",
    "mpl.rcParams['ytick.major.size']= 14.\n",
    "mpl.rcParams['ytick.minor.size']= 2.5\n",
    "mpl.rcParams['ytick.direction'] = 'in' \n",
    "mpl.rcParams['lines.markersize']= 8\n",
    "mpl.rcParams['lines.markeredgewidth']=2\n",
    "mpl.rcParams['ytick.minor.size']= 3.\n",
    "mpl.rcParams['ytick.direction'] = 'in'\n",
    "mpl.rcParams['legend.fontsize'] = 14\n",
    "mpl.rcParams['legend.markerscale'] = 0.5\n",
    "mpl.rcParams['legend.framealpha']=0.\n",
    "mpl.rcParams['legend.borderaxespad']=4.0\n",
    "mpl.rcParams['legend.handletextpad']=0.5\n",
    "mpl.rcParams['font.family'] = 'Times New Roman'\n",
    "mpl.rcParams['mathtext.fontset'] = 'stixsans'"
   ]
  },
  {
   "cell_type": "markdown",
   "id": "e49479e3-da61-4388-b97a-1da59bdc0ec2",
   "metadata": {},
   "source": [
    "# List of words"
   ]
  },
  {
   "cell_type": "code",
   "execution_count": 3,
   "id": "edeb82f0-e414-44fc-8692-2b3f7da8b1fd",
   "metadata": {},
   "outputs": [],
   "source": [
    "from nltk.corpus import words"
   ]
  },
  {
   "cell_type": "code",
   "execution_count": 4,
   "id": "7cc8026a-fd6c-411d-9e3a-7ebc136e4089",
   "metadata": {},
   "outputs": [
    {
     "name": "stdout",
     "output_type": "stream",
     "text": [
      "Total number of words in the corpus:  236736\n"
     ]
    }
   ],
   "source": [
    "allwords = words.words()\n",
    "print(\"Total number of words in the corpus: \", len(allwords))"
   ]
  },
  {
   "cell_type": "markdown",
   "id": "79a4381b-1568-4a5b-9e4c-79271d3caff4",
   "metadata": {},
   "source": [
    "# List of 5-letter words"
   ]
  },
  {
   "cell_type": "code",
   "execution_count": 5,
   "id": "8198d71f-9eda-4e18-a736-f5594eaa2617",
   "metadata": {},
   "outputs": [
    {
     "name": "stdout",
     "output_type": "stream",
     "text": [
      "Total number of 5-lettered words:  8689\n"
     ]
    }
   ],
   "source": [
    "flcn = [word for word in allwords if len(word) == 5 and word.islower()]\n",
    "print(\"Total number of 5-lettered words: \", len(flcn))"
   ]
  },
  {
   "cell_type": "code",
   "execution_count": 6,
   "id": "2630395a-0a86-4c15-a894-306ee67d5391",
   "metadata": {},
   "outputs": [],
   "source": [
    "for word in [''.join(flcn)]:\n",
    "    res = {i : word.count(i) for i in set(word)}\n",
    "    \n",
    "df = pd.Series(res)"
   ]
  },
  {
   "cell_type": "code",
   "execution_count": 7,
   "id": "e6f722f7-fb9c-4559-a603-e7590453bba2",
   "metadata": {},
   "outputs": [],
   "source": [
    "#df.head()"
   ]
  },
  {
   "cell_type": "markdown",
   "id": "0ea0c020-3718-4500-aed1-a84964b4b303",
   "metadata": {},
   "source": [
    "# Frequency of characters\n",
    "in the list of 5-letter words"
   ]
  },
  {
   "cell_type": "code",
   "execution_count": 8,
   "id": "c72604d2-34b6-4848-9317-d4ec922ab625",
   "metadata": {},
   "outputs": [
    {
     "data": {
      "text/plain": [
       "<AxesSubplot:xlabel='Alphabets', ylabel='Counts'>"
      ]
     },
     "execution_count": 8,
     "metadata": {},
     "output_type": "execute_result"
    },
    {
     "data": {
      "image/png": "[encoded data removed]",
      "text/plain": [
       "<Figure size 576x360 with 1 Axes>"
      ]
     },
     "metadata": {
      "needs_background": "light"
     },
     "output_type": "display_data"
    }
   ],
   "source": [
    "df.sort_index().plot.bar(color='darkred', xlabel='Alphabets', ylabel='Counts', figsize=(8,5), rot=0)"
   ]
  },
  {
   "cell_type": "code",
   "execution_count": 9,
   "id": "dfa8c4bc-cd81-499f-b1ac-4543fccda80c",
   "metadata": {},
   "outputs": [
    {
     "data": {
      "text/plain": [
       "['a', 'e', 'i', 'o', 'r']"
      ]
     },
     "execution_count": 9,
     "metadata": {},
     "output_type": "execute_result"
    }
   ],
   "source": [
    "sorted(df.sort_values()[-5:].keys())"
   ]
  },
  {
   "cell_type": "code",
   "execution_count": 10,
   "id": "ef1dff63-7743-495f-8843-1961fd774ff0",
   "metadata": {},
   "outputs": [
    {
     "data": {
      "text/plain": [
       "[]"
      ]
     },
     "execution_count": 10,
     "metadata": {},
     "output_type": "execute_result"
    }
   ],
   "source": [
    "x = [word for word in flcn if sorted(word) == ['a', 'e', 'i', 'o', 'r']]\n",
    "x"
   ]
  },
  {
   "cell_type": "markdown",
   "id": "eae2ba0a-9af1-4624-b765-36ab2a48b3a8",
   "metadata": {},
   "source": [
    "---\n",
    "The 5 most commonly occuring characters in our corpus are ['a', 'e', 'i', 'o', 'r']. However, we can't make a meaningful 5-letter word from them. So we move over to the next most commonly occuring letter.\n",
    "\n",
    "---"
   ]
  },
  {
   "cell_type": "code",
   "execution_count": 11,
   "id": "ec7d6dd2-0ace-4b80-a38f-293991ebabc0",
   "metadata": {},
   "outputs": [
    {
     "data": {
      "text/plain": [
       "['a', 'e', 'i', 'o', 'r', 't']"
      ]
     },
     "execution_count": 11,
     "metadata": {},
     "output_type": "execute_result"
    }
   ],
   "source": [
    "sorted(df.sort_values()[-6:].keys())"
   ]
  },
  {
   "cell_type": "markdown",
   "id": "cb2aad09-f683-43a6-8c01-2a92a70d77d3",
   "metadata": {},
   "source": [
    "---\n",
    "**Assumption:**  We make a choice here to use 't' in place of the least occuring vowel from the above list, to strike a balance between vowels and consonents.\n",
    "\n",
    "---"
   ]
  },
  {
   "cell_type": "markdown",
   "id": "60fe7f65-070e-4a5e-b264-5487869fba2d",
   "metadata": {},
   "source": [
    "# First Guess"
   ]
  },
  {
   "cell_type": "code",
   "execution_count": 12,
   "id": "b27b591e-8f88-451e-a029-0d1487d97c0f",
   "metadata": {},
   "outputs": [
    {
     "data": {
      "text/plain": [
       "['arite', 'irate', 'retia', 'tarie']"
      ]
     },
     "execution_count": 12,
     "metadata": {},
     "output_type": "execute_result"
    }
   ],
   "source": [
    "x = [word for word in flcn if sorted(word) == ['a', 'e', 'i', 'r', 't']]\n",
    "x"
   ]
  },
  {
   "cell_type": "markdown",
   "id": "10a724ee-e143-49f2-9398-93832ca53b08",
   "metadata": {},
   "source": [
    "---\n",
    "Here, we can use any of the above four words as our first guess. We choose **'irate'**.\n",
    "\n",
    "\n",
    "**First Guess: 'irate'**\n",
    "\n",
    "<img src=\"./guess1.png\" alt=\"drawing\" width=\"400\"/>\n",
    "\n",
    "---"
   ]
  },
  {
   "cell_type": "markdown",
   "id": "b306dacb-83c0-4f18-8c06-03cb47dfdf59",
   "metadata": {},
   "source": [
    "# Subsequent Guesses\n",
    "\n",
    "Now, we follow the general strategy:\n",
    "* eliminate greys\n",
    "* fix greens\n",
    "* shuffle oranges"
   ]
  },
  {
   "cell_type": "code",
   "execution_count": 13,
   "id": "96e57291-7d73-441c-8636-1a7e83eb650e",
   "metadata": {},
   "outputs": [],
   "source": [
    "# function to return a list of most-probable guesses\n",
    "# given an eligible list of words and letters\n",
    "# and provided information about greys, greens and oranges\n",
    "\n",
    "def guess_maker(greys, greens, oranges, df_remaining_letters, word_list_remaining):\n",
    "    \n",
    "    print(\"#\"*100)\n",
    "    print(f\"Number of (intial) eligible words: {len(word_list_remaining)}\")\n",
    "    print(f\"Number of (intial) eligible letters: {len(df_remaining_letters.keys())}, {df_remaining_letters.keys()}\")\n",
    "    \n",
    "    # drop greys and merge the remaining characters for a generic match pattern\n",
    "    df = df_remaining_letters.drop(greys)\n",
    "    x = \"\".join(df.keys())\n",
    "    \n",
    "    # generic match pattern (we take the approach of matching the most general word \n",
    "    # and then filtering the list based on sesequent conditions)\n",
    "    match_pattern = f'^[{x}][{x}][{x}][{x}][{x}]$'\n",
    "    \n",
    "    # reduced list of words without greys\n",
    "    word_list_grey = [word for word in word_list_remaining if re.match(match_pattern, word)]\n",
    "    print(f\"Number of words without greys, {greys}: {len(word_list_grey)}\")\n",
    "    \n",
    "    \n",
    "    # reduce word list accorinding to the fixed green positions\n",
    "    word_list_green = word_list_grey # initialise\n",
    "    for key in greens.keys():\n",
    "        word_list_green = [word for word in word_list_green if word[greens[key]] == key]\n",
    "        print(f\"Number of remaining words with green {key} in position {greens[key]}: {len(word_list_green)}\")\n",
    "    \n",
    "    # finally, incorporate the oranges in a copule of steps\n",
    "    word_list_orange = word_list_green # initialise\n",
    "    for key in oranges.keys():\n",
    "\n",
    "        # make sure oranges appear atleast once...\n",
    "        word_list_orange = [word for word in word_list_orange if re.search(key, word)]\n",
    "\n",
    "        # ... and don't appear in their previous positions\n",
    "        for pos in range(len(oranges[key])):\n",
    "            word_list_orange = [word for word in word_list_orange if word[oranges[key][pos]] != key]\n",
    "            print(f\"Number of remaining words after orange operation for {key} in position {oranges[key][pos]}: {len(word_list_orange)}\")\n",
    "                    \n",
    "    word_list_red = word_list_orange\n",
    "    \n",
    "    # update the frequency of characters in the remaining words\n",
    "    for word in [''.join(word_list_red)]:\n",
    "        res = {i : word.count(i) for i in set(word)}\n",
    "    \n",
    "    df = pd.Series(res)\n",
    "    \n",
    "    # and plot their distribution\n",
    "    df.sort_index().plot.bar(color='darkred', xlabel='Alphabets', ylabel='Counts', figsize=(8,5), rot=0)\n",
    "    \n",
    "    print(\"Remaining letters (in decreasing order of frequency): \", len(df.sort_values()[::-1].keys()), df.sort_values()[::-1].keys())\n",
    "    \n",
    "    # Best guesses\n",
    "    \n",
    "    # The while loop iterates through the most frequently occuring letters\n",
    "    # remaining in the list of alphabets\n",
    "    tol = 4\n",
    "    while tol < len(df):\n",
    "        match_string = \"\".join(df.sort_values()[-tol:].keys())\n",
    "        match_pattern = f'^[{match_string}][{match_string}][{match_string}][{match_string}][{match_string}]$'\n",
    "\n",
    "        guess_list = [word for word in word_list_red if re.match(match_pattern, word) != None and len(list(set(word))) >= 4]\n",
    "        \n",
    "        # to most optimise our guess, we restrict to words where same letter does not appear\n",
    "        # more than once in the word\n",
    "        \n",
    "        if not guess_list:\n",
    "            print(f\"Guess list is empty at tolerance {-tol}\")\n",
    "        else:\n",
    "            break\n",
    "        tol += 1\n",
    "    \n",
    "    print(\"-\"*100)\n",
    "    print(\"Best guesses: \", guess_list)\n",
    "    print(\"-\"*100)\n",
    "            \n",
    "    return df, word_list_red"
   ]
  },
  {
   "cell_type": "markdown",
   "id": "85271ace-24c5-4e3f-a12f-724ae955ab1e",
   "metadata": {},
   "source": [
    "## Second guess"
   ]
  },
  {
   "cell_type": "code",
   "execution_count": 14,
   "id": "c54d525a-bfa3-46f3-8914-67b7d1fd5271",
   "metadata": {},
   "outputs": [
    {
     "name": "stdout",
     "output_type": "stream",
     "text": [
      "####################################################################################################\n",
      "Number of (intial) eligible words: 8689\n",
      "Number of (intial) eligible letters: 26, Index(['s', 'h', 'c', 't', 'd', 'w', 'u', 'o', 'y', 'q', 'i', 'b', 'n', 'l',\n",
      "       'e', 'p', 'r', 'm', 'z', 'x', 'a', 'k', 'g', 'v', 'f', 'j'],\n",
      "      dtype='object')\n",
      "Number of words without greys, ['a', 'i', 't']: 2207\n",
      "Number of remaining words after orange operation for r in position 1: 664\n",
      "Number of remaining words after orange operation for e in position 4: 328\n",
      "Remaining letters (in decreasing order of frequency):  23 Index(['e', 'r', 'o', 'y', 'u', 'l', 's', 'd', 'p', 'b', 'm', 'n', 'w', 'c',\n",
      "       'v', 'h', 'g', 'f', 'k', 'x', 'j', 'q', 'z'],\n",
      "      dtype='object')\n",
      "Guess list is empty at tolerance -4\n",
      "Guess list is empty at tolerance -5\n",
      "----------------------------------------------------------------------------------------------------\n",
      "Best guesses:  ['leery', 'lurer', 'lyery', 'roleo', 'ruler', 'uller']\n",
      "----------------------------------------------------------------------------------------------------\n"
     ]
    },
    {
     "data": {
      "image/png": "[encoded data removed]",
      "text/plain": [
       "<Figure size 576x360 with 1 Axes>"
      ]
     },
     "metadata": {
      "needs_background": "light"
     },
     "output_type": "display_data"
    }
   ],
   "source": [
    "greys = ['a', 'i', 't']\n",
    "greens = {}\n",
    "oranges = {'r': [1],\n",
    "          'e': [4]}\n",
    "\n",
    "df2, flcn2 = guess_maker(greys, greens, oranges, df, flcn)"
   ]
  },
  {
   "cell_type": "markdown",
   "id": "bb353c88-8e01-48a8-a118-340eccdc3c0a",
   "metadata": {},
   "source": [
    "---\n",
    "**Second Guess: 'lurer'**\n",
    "\n",
    "<img src=\"./guess2.png\" alt=\"drawing\" width=\"400\"/>\n",
    "\n",
    "---"
   ]
  },
  {
   "cell_type": "markdown",
   "id": "a8315a49-6e3a-4d56-832b-22cfd596f4db",
   "metadata": {},
   "source": [
    "## Third Guess"
   ]
  },
  {
   "cell_type": "code",
   "execution_count": 15,
   "id": "0af295cb-45dc-4237-bbfd-98ce58676240",
   "metadata": {},
   "outputs": [
    {
     "name": "stdout",
     "output_type": "stream",
     "text": [
      "####################################################################################################\n",
      "Number of (intial) eligible words: 328\n",
      "Number of (intial) eligible letters: 23, Index(['s', 'h', 'c', 'd', 'w', 'u', 'o', 'y', 'q', 'b', 'n', 'l', 'e', 'p',\n",
      "       'r', 'm', 'z', 'x', 'g', 'k', 'v', 'f', 'j'],\n",
      "      dtype='object')\n",
      "Number of words without greys, ['l']: 266\n",
      "Number of remaining words with green u in position 1: 22\n",
      "Number of remaining words after orange operation for r in position 1: 22\n",
      "Number of remaining words after orange operation for r in position 2: 17\n",
      "Number of remaining words after orange operation for e in position 3: 2\n",
      "Number of remaining words after orange operation for e in position 4: 2\n",
      "Remaining letters (in decreasing order of frequency):  6 Index(['r', 'q', 'e', 'u', 'y', 'n'], dtype='object')\n",
      "Guess list is empty at tolerance -4\n",
      "----------------------------------------------------------------------------------------------------\n",
      "Best guesses:  ['query']\n",
      "----------------------------------------------------------------------------------------------------\n"
     ]
    },
    {
     "data": {
      "image/png": "[encoded data removed]",
      "text/plain": [
       "<Figure size 576x360 with 1 Axes>"
      ]
     },
     "metadata": {
      "needs_background": "light"
     },
     "output_type": "display_data"
    }
   ],
   "source": [
    "greys = ['l']\n",
    "greens = {'u': 1}\n",
    "oranges = {'r': [1,2],\n",
    "          'e': [3,4]}\n",
    "\n",
    "df3, flcn3 = guess_maker(greys, greens, oranges, df2, flcn2)"
   ]
  },
  {
   "cell_type": "markdown",
   "id": "e91c3f32-354b-4dd7-a6c6-2eb0c015b256",
   "metadata": {},
   "source": [
    "---\n",
    "**Second Guess: 'query'**\n",
    "\n",
    "<img src=\"./guess3.png\" alt=\"drawing\" width=\"400\"/>\n",
    "\n",
    "---"
   ]
  },
  {
   "cell_type": "markdown",
   "id": "8e49c6df-5061-4795-bcdb-3a5f1e1b7532",
   "metadata": {},
   "source": [
    "## Fourth Guess"
   ]
  },
  {
   "cell_type": "markdown",
   "id": "7b681618-b8ad-40d9-942a-da003124ae7c",
   "metadata": {},
   "source": [
    "greys = []\n",
    "greens = {}\n",
    "oranges = {}\n",
    "\n",
    "df4, flcn4 = guess_maker(greys, greens, oranges, df3, flcn3)"
   ]
  },
  {
   "cell_type": "markdown",
   "id": "856d3351-d9a5-4ea0-867a-871901173d02",
   "metadata": {},
   "source": [
    "## Fifth Guess"
   ]
  },
  {
   "cell_type": "markdown",
   "id": "cd33c67e-7e5b-456b-80fd-b7dfbc5fd7be",
   "metadata": {},
   "source": [
    "greys = []\n",
    "greens = {}\n",
    "oranges = {}\n",
    "\n",
    "df5, flcn5 = guess_maker(greys, greens, oranges, df4, flcn4)"
   ]
  },
  {
   "cell_type": "markdown",
   "id": "df3df7d1-36f9-447e-a0bb-86fa45739a9c",
   "metadata": {},
   "source": [
    "# Last Guess"
   ]
  },
  {
   "cell_type": "markdown",
   "id": "a9447c0f-32a7-4bd4-98b7-a8a0cfa394ef",
   "metadata": {},
   "source": [
    "greys = []\n",
    "greens = {}\n",
    "oranges = {}\n",
    "\n",
    "df6, flcn6 = guess_maker(greys, greens, oranges, df5, flcn5)"
   ]
  },
  {
   "cell_type": "markdown",
   "id": "3e2c2024-5723-473c-9445-0a78244f56f1",
   "metadata": {},
   "source": [
    "# Plots outlining the above data analysis technique"
   ]
  },
  {
   "cell_type": "markdown",
   "id": "172fd2bc-ceec-4b3b-b566-064293f61a38",
   "metadata": {},
   "source": [
    "## How the relative importance of each letter change after each guess?"
   ]
  },
  {
   "cell_type": "code",
   "execution_count": 16,
   "id": "c5bd92e0-b142-4e33-8a5c-7ed79471e246",
   "metadata": {},
   "outputs": [
    {
     "data": {
      "image/png": "[encoded data removed]",
      "text/plain": [
       "<Figure size 1080x360 with 1 Axes>"
      ]
     },
     "metadata": {
      "needs_background": "light"
     },
     "output_type": "display_data"
    }
   ],
   "source": [
    "dfn = {'df1': df,\n",
    "      'df2': df2, \n",
    "      'df3': df3}\n",
    "dfn = pd.concat(dfn,\n",
    "               axis = 1)\n",
    "\n",
    "dfn.fillna(0, inplace=True)\n",
    "\n",
    "dfn[\"df1\"] = dfn[\"df1\"]/dfn[\"df1\"].sum()\n",
    "dfn[\"df2\"] = dfn[\"df2\"]/dfn[\"df2\"].sum()\n",
    "dfn[\"df3\"] = dfn[\"df3\"]/dfn[\"df3\"].sum()\n",
    "\n",
    "\n",
    "dfn.sort_index().plot.bar(color={'df1': '#48cae4', 'df2': '#023e8a', 'df3': '#c9184a'}, \n",
    "                          xlabel='Alphabets', ylabel='Counts', figsize=(15,5), rot=0,\n",
    "                         width=0.8)\n",
    "\n",
    "plt.legend([\"Guess #1\", \"Guess #2\", \"Guess #3\"])\n",
    "plt.title(\"Relative importance of a letter before a specific guess\", fontsize=20)\n",
    "plt.tight_layout()"
   ]
  },
  {
   "cell_type": "code",
   "execution_count": null,
   "id": "e3606e5e-8d8c-4d7d-8d01-46523a46e65a",
   "metadata": {},
   "outputs": [],
   "source": []
  }
 ],
 "metadata": {
  "kernelspec": {
   "display_name": "Python 3 (ipykernel)",
   "language": "python",
   "name": "python3"
  },
  "language_info": {
   "codemirror_mode": {
    "name": "ipython",
    "version": 3
   },
   "file_extension": ".py",
   "mimetype": "text/x-python",
   "name": "python",
   "nbconvert_exporter": "python",
   "pygments_lexer": "ipython3",
   "version": "3.7.10"
  }
 },
 "nbformat": 4,
 "nbformat_minor": 5
}
