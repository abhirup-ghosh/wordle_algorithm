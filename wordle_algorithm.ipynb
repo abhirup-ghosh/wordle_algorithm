{
 "cells": [
  {
   "cell_type": "markdown",
   "id": "07c90e26-40f5-4f9e-99bb-3f620d0453fe",
   "metadata": {
    "tags": []
   },
   "source": [
    "# Wordle\n",
    "\n",
    "This is a fun project aimed to optimise finding the Wordle."
   ]
  },
  {
   "cell_type": "markdown",
   "id": "58a7e500-822d-4b4a-b567-4766cbad5491",
   "metadata": {},
   "source": [
    "---\n",
    "We adopt the following strategy:\n",
    "\n",
    "1. start with an optimised initial guess. Here we use the following strategy\n",
    "   * given the complete collection of English words (from nltk.corpus import words), restrict to 5-letter words\n",
    "   * look for characters that occur most frequently (they would have the highest probabilities to occur in the actual wordle as well)\n",
    "   * use these characters to form the best optimised first guess\n",
    "  \n",
    "2. before the next guess:\n",
    "   * greys are eliminated from the list of alphabets\n",
    "   * greens are held fixed in position for the next guess\n",
    "   * oranges are kept making sure they occur in a different position, not already held by a green\n",
    "\n",
    "3. repeat step 2.\n",
    "---"
   ]
  },
  {
   "cell_type": "code",
   "execution_count": 1,
   "id": "9fcce506-0104-476d-99dd-979d14ac16ad",
   "metadata": {},
   "outputs": [],
   "source": [
    "import nltk\n",
    "import pandas as pd\n",
    "import regex as re"
   ]
  },
  {
   "cell_type": "markdown",
   "id": "e49479e3-da61-4388-b97a-1da59bdc0ec2",
   "metadata": {},
   "source": [
    "# List of words"
   ]
  },
  {
   "cell_type": "code",
   "execution_count": 2,
   "id": "edeb82f0-e414-44fc-8692-2b3f7da8b1fd",
   "metadata": {},
   "outputs": [],
   "source": [
    "from nltk.corpus import words"
   ]
  },
  {
   "cell_type": "code",
   "execution_count": 3,
   "id": "7cc8026a-fd6c-411d-9e3a-7ebc136e4089",
   "metadata": {},
   "outputs": [
    {
     "name": "stdout",
     "output_type": "stream",
     "text": [
      "Total number of words in the corpus:  236736\n"
     ]
    }
   ],
   "source": [
    "allwords = words.words()\n",
    "print(\"Total number of words in the corpus: \", len(allwords))"
   ]
  },
  {
   "cell_type": "markdown",
   "id": "79a4381b-1568-4a5b-9e4c-79271d3caff4",
   "metadata": {},
   "source": [
    "# List of 5-letter words"
   ]
  },
  {
   "cell_type": "code",
   "execution_count": 4,
   "id": "8198d71f-9eda-4e18-a736-f5594eaa2617",
   "metadata": {},
   "outputs": [
    {
     "name": "stdout",
     "output_type": "stream",
     "text": [
      "Total number of 5-lettered words:  8689\n"
     ]
    }
   ],
   "source": [
    "flcn = [word for word in allwords if len(word) == 5 and word.islower()]\n",
    "print(\"Total number of 5-lettered words: \", len(flcn))"
   ]
  },
  {
   "cell_type": "code",
   "execution_count": 5,
   "id": "2630395a-0a86-4c15-a894-306ee67d5391",
   "metadata": {},
   "outputs": [],
   "source": [
    "for word in [''.join(flcn)]:\n",
    "    res = {i : word.count(i) for i in set(word)}\n",
    "    \n",
    "df = pd.Series(res)"
   ]
  },
  {
   "cell_type": "code",
   "execution_count": 6,
   "id": "e6f722f7-fb9c-4559-a603-e7590453bba2",
   "metadata": {},
   "outputs": [],
   "source": [
    "#df.head()"
   ]
  },
  {
   "cell_type": "markdown",
   "id": "0ea0c020-3718-4500-aed1-a84964b4b303",
   "metadata": {},
   "source": [
    "# Frequency of characters\n",
    "in the list of 5-letter words"
   ]
  },
  {
   "cell_type": "code",
   "execution_count": 7,
   "id": "c72604d2-34b6-4848-9317-d4ec922ab625",
   "metadata": {},
   "outputs": [
    {
     "data": {
      "text/plain": [
       "<AxesSubplot:>"
      ]
     },
     "execution_count": 7,
     "metadata": {},
     "output_type": "execute_result"
    },
    {
     "data": {
      "image/png": "[encoded data removed]",
      "text/plain": [
       "<Figure size 432x288 with 1 Axes>"
      ]
     },
     "metadata": {
      "needs_background": "light"
     },
     "output_type": "display_data"
    }
   ],
   "source": [
    "df.sort_index().plot.bar()"
   ]
  },
  {
   "cell_type": "code",
   "execution_count": 8,
   "id": "dfa8c4bc-cd81-499f-b1ac-4543fccda80c",
   "metadata": {},
   "outputs": [
    {
     "data": {
      "text/plain": [
       "['a', 'e', 'i', 'o', 'r']"
      ]
     },
     "execution_count": 8,
     "metadata": {},
     "output_type": "execute_result"
    }
   ],
   "source": [
    "sorted(df.sort_values()[-5:].keys())"
   ]
  },
  {
   "cell_type": "code",
   "execution_count": 9,
   "id": "ef1dff63-7743-495f-8843-1961fd774ff0",
   "metadata": {},
   "outputs": [
    {
     "data": {
      "text/plain": [
       "[]"
      ]
     },
     "execution_count": 9,
     "metadata": {},
     "output_type": "execute_result"
    }
   ],
   "source": [
    "x = [word for word in flcn if sorted(word) == ['a', 'e', 'i', 'o', 'r']]\n",
    "x"
   ]
  },
  {
   "cell_type": "markdown",
   "id": "eae2ba0a-9af1-4624-b765-36ab2a48b3a8",
   "metadata": {},
   "source": [
    "---\n",
    "The 5 most commonly occuring characters in our corpus are ['a', 'e', 'i', 'o', 'r']. However, we can't make a meaningful 5-letter word from them. So we move over to the next most commonly occuring letter.\n",
    "\n",
    "---"
   ]
  },
  {
   "cell_type": "code",
   "execution_count": 10,
   "id": "ec7d6dd2-0ace-4b80-a38f-293991ebabc0",
   "metadata": {},
   "outputs": [
    {
     "data": {
      "text/plain": [
       "['a', 'e', 'i', 'o', 'r', 't']"
      ]
     },
     "execution_count": 10,
     "metadata": {},
     "output_type": "execute_result"
    }
   ],
   "source": [
    "sorted(df.sort_values()[-6:].keys())"
   ]
  },
  {
   "cell_type": "markdown",
   "id": "cb2aad09-f683-43a6-8c01-2a92a70d77d3",
   "metadata": {},
   "source": [
    "---\n",
    "**Assumption:**  We make a choice here to use 't' in place of the least occuring vowel from the above list, to strike a balance between vowels and consonents.\n",
    "\n",
    "---"
   ]
  },
  {
   "cell_type": "markdown",
   "id": "60fe7f65-070e-4a5e-b264-5487869fba2d",
   "metadata": {},
   "source": [
    "# First Guess"
   ]
  },
  {
   "cell_type": "code",
   "execution_count": 11,
   "id": "b27b591e-8f88-451e-a029-0d1487d97c0f",
   "metadata": {},
   "outputs": [
    {
     "data": {
      "text/plain": [
       "['arite', 'irate', 'retia', 'tarie']"
      ]
     },
     "execution_count": 11,
     "metadata": {},
     "output_type": "execute_result"
    }
   ],
   "source": [
    "x = [word for word in flcn if sorted(word) == ['a', 'e', 'i', 'r', 't']]\n",
    "x"
   ]
  },
  {
   "cell_type": "markdown",
   "id": "10a724ee-e143-49f2-9398-93832ca53b08",
   "metadata": {},
   "source": [
    "---\n",
    "Here, we can use any of the above four words as our first guess. We choose **'irate'**.\n",
    "\n",
    "\n",
    "**First Guess: 'irate'**\n",
    "\n",
    "---"
   ]
  },
  {
   "cell_type": "markdown",
   "id": "b306dacb-83c0-4f18-8c06-03cb47dfdf59",
   "metadata": {},
   "source": [
    "# Second Guess\n",
    "\n",
    "For the purpose of this demonstration, we assume that our first guess returned.\n",
    "\n",
    "<img src=\"./guess1.png\" alt=\"drawing\" width=\"400\"/>\n",
    "\n",
    "\n",
    "Now, we follow the general strategy:\n",
    "* eliminate greys\n",
    "* fix greens\n",
    "* shuffle oranges\n",
    "\n",
    "In order to narrow down the list of words for our second guess, we use a 5-letter regex pattern with the greens fixed, in this case, something like `'^....e$'`. We also know, **['a', 'i', 't']** are not part of the remaining 4 letters, so the regex can be restricted to `f'^[{x}][{x}][{x}][{x}]e$'`, where `{x}` represents the set of alphabets without **['a', 'i', 't']**. \n",
    "\n",
    "We further know that although the letter **'r'** is in the word, it is not in the second position. So, it helps in reducing the list of words further by removing all words that have **'r'** in the second position. The final regex looks something like: `f'^[{x}][{x_orange}][{x}][{x}]e$'`, where `{x_orange}` is the set `{x}` without any letter in the set of oranges.\n",
    "\n",
    "Finally, we need to make sure that although the oranges are not in designated positions, they occur at least once in the word. Hence, we remove the words where oranges don't appear at all."
   ]
  },
  {
   "cell_type": "code",
   "execution_count": 12,
   "id": "c54d525a-bfa3-46f3-8914-67b7d1fd5271",
   "metadata": {},
   "outputs": [],
   "source": [
    "##FIXME\n",
    "greys = ['a', 'i', 't']\n",
    "greens = ['e']\n",
    "oranges = {'r': [1]}"
   ]
  },
  {
   "cell_type": "code",
   "execution_count": 13,
   "id": "9e1f2d69-03df-4718-982a-087b1877e9ed",
   "metadata": {},
   "outputs": [],
   "source": [
    "df.drop(greys+greens, inplace=True)\n",
    "#df.sort_index()"
   ]
  },
  {
   "cell_type": "code",
   "execution_count": 14,
   "id": "f9b49880-1389-4107-82c2-5abf8e274ec7",
   "metadata": {},
   "outputs": [],
   "source": [
    "x = \"\".join(df.keys())\n",
    "#print(x)"
   ]
  },
  {
   "cell_type": "code",
   "execution_count": 15,
   "id": "cb6a8e64-71d1-4401-a9f3-8edb95f3380b",
   "metadata": {},
   "outputs": [],
   "source": [
    "# 5-letter word with greens ('e') fixed in their positions\n",
    "# and greys (['a','i','t']) removed\n",
    "match_pattern = f'^[{x}][{x}][{x}][{x}]e$'  ##FIXME\n",
    "\n",
    "flcn = [word for word in flcn if re.match(match_pattern, word)]\n",
    "#print(len(flcn))\n",
    "#print(flcn)\n",
    "\n",
    "for key in oranges.keys():\n",
    "\n",
    "    # make sure oranges ('r') appear atleast once\n",
    "    flcn = [word for word in flcn if re.search(key, word)]\n",
    "    \n",
    "    # make sure oranges ('r') don't appear in their respective positions\n",
    "    for pos in range(len(oranges[key])):\n",
    "        flcn = [word for word in flcn if word[oranges[key][pos]] != key]\n",
    "        #print(len(flcn))\n",
    "        #print(flcn)"
   ]
  },
  {
   "cell_type": "code",
   "execution_count": 16,
   "id": "8019bd41-81cb-4e85-aa96-13d7bae4ca3a",
   "metadata": {},
   "outputs": [
    {
     "data": {
      "text/plain": [
       "<AxesSubplot:>"
      ]
     },
     "execution_count": 16,
     "metadata": {},
     "output_type": "execute_result"
    },
    {
     "data": {
      "image/png": "[encoded data removed]",
      "text/plain": [
       "<Figure size 432x288 with 1 Axes>"
      ]
     },
     "metadata": {
      "needs_background": "light"
     },
     "output_type": "display_data"
    }
   ],
   "source": [
    "for word in [''.join(flcn)]:\n",
    "    res = {i : word.count(i) for i in set(word)}\n",
    "    \n",
    "df_tmp = pd.Series(res)\n",
    "df_tmp.sort_index().plot.bar()\n",
    "#df_tmp.sort_index()"
   ]
  },
  {
   "cell_type": "markdown",
   "id": "37a27784-18c0-49cf-883f-8c522813ec75",
   "metadata": {},
   "source": [
    "---\n",
    "`flcn` is the reduced list of words that have `'e'` in the last position and `'r'` NOT in the second position, but at least somewhere else in the word, and does not contain the letters `['a','i','t']` at all.\n",
    "\n",
    "We now shift our attention to the next most commonly occuring letter.\n",
    "\n",
    "---"
   ]
  },
  {
   "cell_type": "code",
   "execution_count": 17,
   "id": "4ffbdeaf-fe70-46ae-b759-8421af27846c",
   "metadata": {},
   "outputs": [
    {
     "data": {
      "text/plain": [
       "Index(['n', 'l', 's', 'o', 'r'], dtype='object')"
      ]
     },
     "execution_count": 17,
     "metadata": {},
     "output_type": "execute_result"
    }
   ],
   "source": [
    "df.sort_values()[-5:].keys()"
   ]
  },
  {
   "cell_type": "code",
   "execution_count": 18,
   "id": "473d8738-f1ba-4f72-9c10-32332b6d9be0",
   "metadata": {},
   "outputs": [
    {
     "data": {
      "text/plain": [
       "['snore']"
      ]
     },
     "execution_count": 18,
     "metadata": {},
     "output_type": "execute_result"
    }
   ],
   "source": [
    "match_pattern = \"\".join(df.sort_values()[-5:].keys())\n",
    "match_pattern = f'^[{match_pattern}][{match_pattern}][{match_pattern}][{match_pattern}]e$' ##FIXME\n",
    "\n",
    "x = [word for word in flcn if re.match(match_pattern, word) != None]\n",
    "x"
   ]
  },
  {
   "cell_type": "markdown",
   "id": "bf492509-5ec3-45a6-b594-2a450e80c853",
   "metadata": {},
   "source": [
    "---\n",
    "**Second Guess: 'snore'**\n",
    "\n",
    "---\n",
    "\n",
    "<img src=\"./guess2.png\" alt=\"drawing\" width=\"400\"/>"
   ]
  },
  {
   "cell_type": "markdown",
   "id": "a02a6bf8-afdd-4bb9-9987-8c70902b6c97",
   "metadata": {},
   "source": [
    "# Third Guess"
   ]
  },
  {
   "cell_type": "code",
   "execution_count": 19,
   "id": "5039ef86-9482-49f4-8dbb-60affd21c6fc",
   "metadata": {},
   "outputs": [],
   "source": [
    "##FIXME\n",
    "\n",
    "greys = ['s', 'n']\n",
    "greens = []\n",
    "oranges = {'r': [1,3],\n",
    "          'o': [2]}"
   ]
  },
  {
   "cell_type": "code",
   "execution_count": 20,
   "id": "c990b6a3-9f0a-445c-9076-9c5626f59914",
   "metadata": {},
   "outputs": [],
   "source": [
    "df.drop(greys+greens, inplace=True)\n",
    "#df.sort_index()"
   ]
  },
  {
   "cell_type": "code",
   "execution_count": 21,
   "id": "3802a43a-4616-4721-814c-ec6288bcb195",
   "metadata": {},
   "outputs": [],
   "source": [
    "x = \"\".join(df.keys())\n",
    "#print(x)"
   ]
  },
  {
   "cell_type": "code",
   "execution_count": 22,
   "id": "4f4bc1e1-763c-43ea-bbd7-b95a0febed17",
   "metadata": {},
   "outputs": [],
   "source": [
    "# 5-letter word with greens ('e') fixed in their positions\n",
    "# and greys (['a','i','t']) removed\n",
    "match_pattern = f'^[{x}][{x}][{x}][{x}]e$' ##FIXME\n",
    "\n",
    "flcn = [word for word in flcn if re.match(match_pattern, word)]\n",
    "#print(len(flcn))\n",
    "#print(flcn)\n",
    "\n",
    "for key in oranges.keys():\n",
    "\n",
    "    # make sure oranges ('r') appear atleast once\n",
    "    flcn = [word for word in flcn if re.search(key, word)]\n",
    "    \n",
    "    # make sure oranges ('r') don't appear in their respective positions\n",
    "    for pos in range(len(oranges[key])):\n",
    "        flcn = [word for word in flcn if word[oranges[key][pos]] != key]\n",
    "        #print(len(flcn))\n",
    "        #print(flcn)"
   ]
  },
  {
   "cell_type": "code",
   "execution_count": 23,
   "id": "f25fbff2-aa1d-4b12-bb4c-75b339f29a85",
   "metadata": {},
   "outputs": [
    {
     "data": {
      "text/plain": [
       "<AxesSubplot:>"
      ]
     },
     "execution_count": 23,
     "metadata": {},
     "output_type": "execute_result"
    },
    {
     "data": {
      "image/png": "[encoded data removed]",
      "text/plain": [
       "<Figure size 432x288 with 1 Axes>"
      ]
     },
     "metadata": {
      "needs_background": "light"
     },
     "output_type": "display_data"
    }
   ],
   "source": [
    "for word in [''.join(flcn)]:\n",
    "    res = {i : word.count(i) for i in set(word)}\n",
    "    \n",
    "df_tmp = pd.Series(res)\n",
    "df_tmp.sort_index().plot.bar()\n",
    "#df_tmp.sort_index()"
   ]
  },
  {
   "cell_type": "code",
   "execution_count": 24,
   "id": "91b1f6a7-1acd-48d7-8b46-d510c818994a",
   "metadata": {},
   "outputs": [
    {
     "data": {
      "text/plain": [
       "Index(['h', 'd', 'c', 'y', 'u', 'l', 'o', 'r'], dtype='object')"
      ]
     },
     "execution_count": 24,
     "metadata": {},
     "output_type": "execute_result"
    }
   ],
   "source": [
    "df.sort_values()[-8:].keys()"
   ]
  },
  {
   "cell_type": "code",
   "execution_count": 25,
   "id": "f1e72347-8680-4f43-ab4f-16288d1c738e",
   "metadata": {},
   "outputs": [
    {
     "data": {
      "text/plain": [
       "['horde']"
      ]
     },
     "execution_count": 25,
     "metadata": {},
     "output_type": "execute_result"
    }
   ],
   "source": [
    "match_pattern = \"\".join(df.sort_values()[-8:].keys())\n",
    "match_pattern = f'^[{match_pattern}][{match_pattern}][{match_pattern}][{match_pattern}]e$' ##FIXME\n",
    "x = [word for word in flcn if re.match(match_pattern, word) != None]\n",
    "x"
   ]
  },
  {
   "cell_type": "markdown",
   "id": "8423532c-2a1c-498e-a183-ef788f828e31",
   "metadata": {},
   "source": [
    "---\n",
    "**Third Guess: 'horde'**\n",
    "\n",
    "---\n",
    "\n",
    "<img src=\"./guess3.png\" alt=\"drawing\" width=\"400\"/>"
   ]
  },
  {
   "cell_type": "markdown",
   "id": "ea45f26c-b448-46e9-959c-06564a4826e6",
   "metadata": {},
   "source": [
    "# Fourth Guess"
   ]
  },
  {
   "cell_type": "code",
   "execution_count": 26,
   "id": "48e9f504-cbe2-4187-8515-0e1b64753d39",
   "metadata": {},
   "outputs": [],
   "source": [
    "##FIXME\n",
    "\n",
    "greys = ['h', 'd']\n",
    "greens = ['o', 'r']\n",
    "oranges = {}"
   ]
  },
  {
   "cell_type": "code",
   "execution_count": 27,
   "id": "2710d57e-1c8a-44c7-8b66-375e2d11c97d",
   "metadata": {},
   "outputs": [],
   "source": [
    "df.drop(greys+greens, inplace=True)\n",
    "#df.sort_index()"
   ]
  },
  {
   "cell_type": "code",
   "execution_count": 28,
   "id": "ef8eb2b5-3fed-4ca4-939a-4b6b28f0a689",
   "metadata": {},
   "outputs": [],
   "source": [
    "x = \"\".join(df.keys())\n",
    "#print(x)"
   ]
  },
  {
   "cell_type": "code",
   "execution_count": 29,
   "id": "b71e67c8-6353-4709-8e47-f6979e7d8574",
   "metadata": {},
   "outputs": [],
   "source": [
    "# 5-letter word with greens ('e') fixed in their positions\n",
    "# and greys (['a','i','t']) removed\n",
    "match_pattern = f'^[{x}]or[{x}]e$' ##FIXME\n",
    "\n",
    "flcn = [word for word in flcn if re.match(match_pattern, word)]\n",
    "#print(len(flcn))\n",
    "#print(flcn)\n",
    "\n",
    "for key in oranges.keys():\n",
    "\n",
    "    # make sure oranges ('r') appear atleast once\n",
    "    flcn = [word for word in flcn if re.search(key, word)]\n",
    "    \n",
    "    # make sure oranges ('r') don't appear in their respective positions\n",
    "    for pos in range(len(oranges[key])):\n",
    "        flcn = [word for word in flcn if word[oranges[key][pos]] != key]\n",
    "        #print(len(flcn))\n",
    "        #print(flcn)"
   ]
  },
  {
   "cell_type": "code",
   "execution_count": 30,
   "id": "819b11ad-6f95-4bac-af0b-2e9caa59a0a1",
   "metadata": {},
   "outputs": [
    {
     "data": {
      "text/plain": [
       "<AxesSubplot:>"
      ]
     },
     "execution_count": 30,
     "metadata": {},
     "output_type": "execute_result"
    },
    {
     "data": {
      "image/png": "[encoded data removed]",
      "text/plain": [
       "<Figure size 432x288 with 1 Axes>"
      ]
     },
     "metadata": {
      "needs_background": "light"
     },
     "output_type": "display_data"
    }
   ],
   "source": [
    "for word in [''.join(flcn)]:\n",
    "    res = {i : word.count(i) for i in set(word)}\n",
    "    \n",
    "df_tmp = pd.Series(res)\n",
    "df_tmp.sort_index().plot.bar()\n",
    "#df_tmp.sort_index()"
   ]
  },
  {
   "cell_type": "code",
   "execution_count": 31,
   "id": "c9378ed4-7c2a-445c-aa38-b888cb63bced",
   "metadata": {},
   "outputs": [
    {
     "data": {
      "text/plain": [
       "Index(['c', 'y', 'u', 'l'], dtype='object')"
      ]
     },
     "execution_count": 31,
     "metadata": {},
     "output_type": "execute_result"
    }
   ],
   "source": [
    "df.sort_values()[-4:].keys()"
   ]
  },
  {
   "cell_type": "code",
   "execution_count": 32,
   "id": "22a44e1a-c12f-4c64-9666-5f103d74c67f",
   "metadata": {},
   "outputs": [
    {
     "data": {
      "text/plain": [
       "['forge', 'forme', 'gorge', 'porge']"
      ]
     },
     "execution_count": 32,
     "metadata": {},
     "output_type": "execute_result"
    }
   ],
   "source": [
    "match_pattern = \"\".join(df.sort_values()[:-4].keys())\n",
    "match_pattern = f'^[{match_pattern}]or[{match_pattern}]e$' ##FIXME\n",
    "x = [word for word in flcn if re.match(match_pattern, word) != None]\n",
    "x"
   ]
  },
  {
   "cell_type": "markdown",
   "id": "4b18d479-531d-4423-a0d0-704cbd2136e4",
   "metadata": {},
   "source": [
    "---\n",
    "**Fourth Guess: 'forme'**\n",
    "\n",
    "---"
   ]
  },
  {
   "cell_type": "markdown",
   "id": "63f14dd5-935f-4cd6-89b2-cbd95c62897d",
   "metadata": {},
   "source": [
    "# Fifth guess"
   ]
  },
  {
   "cell_type": "code",
   "execution_count": 33,
   "id": "cab5fe13-1f30-4791-8af6-ab8b57a1dc8e",
   "metadata": {},
   "outputs": [],
   "source": [
    "##FIXME\n",
    "\n",
    "greys = ['f', 'm']\n",
    "greens = []\n",
    "oranges = {}"
   ]
  },
  {
   "cell_type": "code",
   "execution_count": 34,
   "id": "ece320e2-0ab4-420a-97de-45b483e773c8",
   "metadata": {},
   "outputs": [],
   "source": [
    "df.drop(greys+greens, inplace=True)\n",
    "#df.sort_index()"
   ]
  },
  {
   "cell_type": "code",
   "execution_count": 35,
   "id": "04072ca2-e4e3-46a0-84cc-66cebda091c4",
   "metadata": {},
   "outputs": [],
   "source": [
    "x = \"\".join(df.keys())\n",
    "#print(x)"
   ]
  },
  {
   "cell_type": "code",
   "execution_count": 36,
   "id": "e105b0bf-0902-4d44-a133-f23a69f69f52",
   "metadata": {},
   "outputs": [],
   "source": [
    "# 5-letter word with greens ('e') fixed in their positions\n",
    "# and greys (['a','i','t']) removed\n",
    "match_pattern = f'^[{x}]or[{x}]e$' ##FIXME\n",
    "\n",
    "flcn = [word for word in flcn if re.match(match_pattern, word)]\n",
    "#print(len(flcn))\n",
    "#print(flcn)\n",
    "\n",
    "for key in oranges.keys():\n",
    "\n",
    "    # make sure oranges ('r') appear atleast once\n",
    "    flcn = [word for word in flcn if re.search(key, word)]\n",
    "    \n",
    "    # make sure oranges ('r') don't appear in their respective positions\n",
    "    for pos in range(len(oranges[key])):\n",
    "        #print(oranges[key][pos])\n",
    "        flcn = [word for word in flcn if word[oranges[key][pos]] != key]\n",
    "        #print(len(flcn))\n",
    "        #print(flcn)"
   ]
  },
  {
   "cell_type": "code",
   "execution_count": 37,
   "id": "062e98ad-b284-44d4-8d95-756fb2338bae",
   "metadata": {},
   "outputs": [
    {
     "data": {
      "text/plain": [
       "<AxesSubplot:>"
      ]
     },
     "execution_count": 37,
     "metadata": {},
     "output_type": "execute_result"
    },
    {
     "data": {
      "image/png": "[encoded data removed]",
      "text/plain": [
       "<Figure size 432x288 with 1 Axes>"
      ]
     },
     "metadata": {
      "needs_background": "light"
     },
     "output_type": "display_data"
    }
   ],
   "source": [
    "for word in [''.join(flcn)]:\n",
    "    res = {i : word.count(i) for i in set(word)}\n",
    "    \n",
    "df_tmp = pd.Series(res)\n",
    "df_tmp.sort_index().plot.bar()\n",
    "#df_tmp.sort_index()"
   ]
  },
  {
   "cell_type": "code",
   "execution_count": 38,
   "id": "a4267d2e-4175-495a-a08e-60a6adfd3b42",
   "metadata": {},
   "outputs": [
    {
     "data": {
      "text/plain": [
       "Index(['c', 'y', 'u', 'l'], dtype='object')"
      ]
     },
     "execution_count": 38,
     "metadata": {},
     "output_type": "execute_result"
    }
   ],
   "source": [
    "df.sort_values()[-4:].keys()"
   ]
  },
  {
   "cell_type": "code",
   "execution_count": 39,
   "id": "a8aeafc7-9f5a-4cfb-abce-a2c758f2ea7c",
   "metadata": {},
   "outputs": [
    {
     "data": {
      "text/plain": [
       "['gorge', 'porge']"
      ]
     },
     "execution_count": 39,
     "metadata": {},
     "output_type": "execute_result"
    }
   ],
   "source": [
    "match_pattern = \"\".join(df.sort_values()[:-4].keys())\n",
    "match_pattern = f'^[{match_pattern}]or[{match_pattern}]e$' ##FIXME\n",
    "x = [word for word in flcn if re.match(match_pattern, word) != None]\n",
    "x"
   ]
  },
  {
   "cell_type": "markdown",
   "id": "9b07a8b8-9784-4686-8a62-3d53c914f4d7",
   "metadata": {},
   "source": [
    "---\n",
    "**Fifth Guess: 'porge'**\n",
    "\n",
    "---\n",
    "\n",
    "<img src=\"./guess5.png\" alt=\"drawing\" width=\"400\"/>"
   ]
  },
  {
   "cell_type": "markdown",
   "id": "05690220-852a-4b29-9c9e-80a2f5d7558d",
   "metadata": {},
   "source": [
    "# Last Guess"
   ]
  },
  {
   "cell_type": "code",
   "execution_count": 40,
   "id": "3b99f28b-cf20-4b60-a1af-721a1ab249d9",
   "metadata": {},
   "outputs": [],
   "source": [
    "##FIXME\n",
    "\n",
    "greys = ['p']\n",
    "greens = []\n",
    "oranges = {}"
   ]
  },
  {
   "cell_type": "code",
   "execution_count": 41,
   "id": "5be4b43b-380e-41c0-b019-808ad1279af9",
   "metadata": {},
   "outputs": [],
   "source": [
    "df.drop(greys+greens, inplace=True)\n",
    "#df.sort_index()"
   ]
  },
  {
   "cell_type": "code",
   "execution_count": 42,
   "id": "280b9ff8-a566-4d96-bc62-44f5ac416060",
   "metadata": {},
   "outputs": [],
   "source": [
    "x = \"\".join(df.keys())\n",
    "#print(x)"
   ]
  },
  {
   "cell_type": "code",
   "execution_count": 43,
   "id": "e0663ab6-2c90-4aef-a2cb-0ecf8f75a2ac",
   "metadata": {},
   "outputs": [],
   "source": [
    "# 5-letter word with greens ('e') fixed in their positions\n",
    "# and greys (['a','i','t']) removed\n",
    "match_pattern = f'^[{x}]orge$' ##FIXME\n",
    "\n",
    "flcn = [word for word in flcn if re.match(match_pattern, word)]\n",
    "#print(len(flcn))\n",
    "#print(flcn)\n",
    "\n",
    "for key in oranges.keys():\n",
    "\n",
    "    # make sure oranges ('r') appear atleast once\n",
    "    flcn = [word for word in flcn if re.search(key, word)]\n",
    "    \n",
    "    # make sure oranges ('r') don't appear in their respective positions\n",
    "    for pos in range(len(oranges[key])):\n",
    "        flcn = [word for word in flcn if word[oranges[key][pos]] != key]\n",
    "        #print(len(flcn))\n",
    "        #print(flcn)"
   ]
  },
  {
   "cell_type": "code",
   "execution_count": 44,
   "id": "690482c4-2230-4615-8094-bb8fbf064437",
   "metadata": {},
   "outputs": [
    {
     "data": {
      "text/plain": [
       "<AxesSubplot:>"
      ]
     },
     "execution_count": 44,
     "metadata": {},
     "output_type": "execute_result"
    },
    {
     "data": {
      "image/png": "[encoded data removed]",
      "text/plain": [
       "<Figure size 432x288 with 1 Axes>"
      ]
     },
     "metadata": {
      "needs_background": "light"
     },
     "output_type": "display_data"
    }
   ],
   "source": [
    "for word in [''.join(flcn)]:\n",
    "    res = {i : word.count(i) for i in set(word)}\n",
    "    \n",
    "df_tmp = pd.Series(res)\n",
    "df_tmp.sort_index().plot.bar()\n",
    "#df_tmp.sort_index()"
   ]
  },
  {
   "cell_type": "code",
   "execution_count": 45,
   "id": "f6e25207-cd5e-45f1-95e0-6beaaf54f825",
   "metadata": {},
   "outputs": [
    {
     "data": {
      "text/plain": [
       "Index(['c', 'y', 'u', 'l'], dtype='object')"
      ]
     },
     "execution_count": 45,
     "metadata": {},
     "output_type": "execute_result"
    }
   ],
   "source": [
    "df.sort_values()[-4:].keys()"
   ]
  },
  {
   "cell_type": "code",
   "execution_count": 46,
   "id": "93f711db-253a-41e5-9e82-1c84547be4dc",
   "metadata": {},
   "outputs": [
    {
     "data": {
      "text/plain": [
       "['gorge']"
      ]
     },
     "execution_count": 46,
     "metadata": {},
     "output_type": "execute_result"
    }
   ],
   "source": [
    "match_pattern = \"\".join(df.sort_values()[:-4].keys())\n",
    "match_pattern = f'^[{match_pattern}]orge$' ##FIXME\n",
    "x = [word for word in flcn if re.match(match_pattern, word) != None]\n",
    "x"
   ]
  },
  {
   "cell_type": "markdown",
   "id": "0f3298ba-ea9b-45a5-85ab-62a88c09e780",
   "metadata": {},
   "source": [
    "---\n",
    "**Fifth Guess: 'gorge'**\n",
    "\n",
    "---\n",
    "\n",
    "<img src=\"./guess6.png\" alt=\"drawing\" width=\"400\"/>"
   ]
  },
  {
   "cell_type": "code",
   "execution_count": null,
   "id": "abcc33df-4ee2-487c-8bfb-086bb4f485f0",
   "metadata": {},
   "outputs": [],
   "source": [
    "\n"
   ]
  }
 ],
 "metadata": {
  "kernelspec": {
   "display_name": "Python 3 (ipykernel)",
   "language": "python",
   "name": "python3"
  },
  "language_info": {
   "codemirror_mode": {
    "name": "ipython",
    "version": 3
   },
   "file_extension": ".py",
   "mimetype": "text/x-python",
   "name": "python",
   "nbconvert_exporter": "python",
   "pygments_lexer": "ipython3",
   "version": "3.7.10"
  }
 },
 "nbformat": 4,
 "nbformat_minor": 5
}
